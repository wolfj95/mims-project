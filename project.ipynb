{
 "cells": [
  {
   "cell_type": "code",
   "execution_count": null,
   "id": "11dfb731",
   "metadata": {},
   "outputs": [],
   "source": [
    "%load_ext autoreload\n",
    "%autoreload 2"
   ]
  },
  {
   "cell_type": "markdown",
   "id": "bc8fff8b",
   "metadata": {},
   "source": [
    "# Project\n",
    "\n",
    "Use this notebook to store and run your animation project.\n",
    "You should limit the functions you define here to the\n",
    "`draw_animation()` function. Other needed functions should be\n",
    "defined in the `parts.py` module.\n",
    "\n",
    "Additionally, check out `helpers.py` for helpful functions to in\n",
    "making your animation.\n",
    "\n",
    "Finally, try to only import the functions you need from each of\n",
    "these files (as well as the Turtle module) in order to keep\n",
    "your code organized."
   ]
  },
  {
   "cell_type": "markdown",
   "id": "560dd4a5",
   "metadata": {},
   "source": [
    "## Planning and pseudo-coding\n",
    "\n",
    "Use the space below (or another document) to make a plan for your\n",
    "animation. Here's some advice to get you started:\n",
    "\n",
    "**💭 Ideas**\n",
    "\n",
    "Draw out some ideas for what you can\n",
    "animate. You could choose to go a more mathematical/geometric\n",
    "route with spirals or abstract shapes or you could go a\n",
    "more concrete route with recognizable images that you animate.\n",
    "\n",
    "**🧱 Decomposition**\n",
    "\n",
    "Once you have an idea in mind, decompose that image into \n",
    "smaller and smaller components until you feel confident that you\n",
    "could make a Turtle program to accomplish that component. Refer to\n",
    "[the Decomposition and Style Guide](https://cs.stanford.edu/people/nick/compdocs/Decomposition_and_Style.pdf) for tips.\n",
    "\n",
    "**🔨 Abstraction**\n",
    "\n",
    "At the same time, consider how you will abstract each of these\n",
    "components so that you can use it in multiple frames of your\n",
    "animation.\n",
    "- **Do you need to move the image?** Make sure the Turtle\n",
    "isn't relying on fixed numbers to draw.\n",
    "- **Do you need to rotate the\n",
    "image?** Make sure the Turtle can draw the image facing any \n",
    "direction.\n",
    "- **Do you need to scale the image?** Make sure your \n",
    "movement calls can be scaled by a size factor.\n",
    "\n",
    "Using this information, decide what parameters you will need to\n",
    "accomplish each of the components you decompose out.\n",
    "\n",
    "**⏱ Timing and milestones**\n",
    "\n",
    "After you've made a plan, step back and consider the complexity of\n",
    "the project you are about to start. We will have 2 course sessions\n",
    "to work on the project. **Can you finish all the parts during that\n",
    "time?** If not, you may want to reduce the complexity of your idea\n",
    "or maybe even start over and choose another idea.\n",
    "\n",
    "Planning will help you anticipate problems that you may run into.\n",
    "However, you probably won't be able to anticipate all of them.\n",
    "To help make sure you have a working animation by the end of the\n",
    "project, decide which pieces are essential to your animation\n",
    "and which pieces can be layered on top. Make a plan for the order\n",
    "you will implement your components and the times you hope to\n",
    "complete them by. If you notice yourself falling behind, you can\n",
    "return to your plan and update it to cut out some of the more\n",
    "complex components."
   ]
  },
  {
   "cell_type": "markdown",
   "id": "5f00c080",
   "metadata": {},
   "source": [
    "*Use this space for your planning*"
   ]
  },
  {
   "cell_type": "markdown",
   "id": "a6d5586b",
   "metadata": {},
   "source": [
    "## Code"
   ]
  },
  {
   "cell_type": "code",
   "execution_count": 1,
   "id": "c9d75246",
   "metadata": {},
   "outputs": [],
   "source": [
    "from turtle import Screen, clear, reset\n",
    "# from parts import \n",
    "from helpers import setup, no_delay\n",
    "import time"
   ]
  },
  {
   "cell_type": "code",
   "execution_count": 2,
   "id": "c7f56450",
   "metadata": {},
   "outputs": [],
   "source": [
    "def draw_animation(num_frames, sleeptime, screen):\n",
    "    for i in range(num_frames):\n",
    "        # YOUR ANIMATION CODE HERE\n",
    "        screen.update()\n",
    "        time.sleep(sleeptime)\n",
    "        clear()\n",
    "    "
   ]
  },
  {
   "cell_type": "code",
   "execution_count": 4,
   "id": "81b1fb8b",
   "metadata": {},
   "outputs": [],
   "source": [
    "SLEEPTIME = 0.05 #the time in between each frame\n",
    "NUMFRAMES = 100 #the number of frames in the animation\n",
    "NUMREPEATS = 4 #the number of times the animation repeats\n",
    "SCREENWIDTH = 800 #the height and width of the screen\n",
    "SCREENHEIGHT = 800 #the height and width of the screen\n",
    "START_X = 0 # the starting xcoordinate of the drawing\n",
    "START_Y = 0 # the starting ycoordinate of the drawing\n",
    "\n",
    "reset()\n",
    "screen = Screen()\n",
    "screen.setup(SCREENWIDTH, SCREENHEIGHT)\n",
    "for i in range(NUMREPEATS):\n",
    "        with no_delay():\n",
    "            setup(START_X, START_Y)\n",
    "            draw_animation(NUMFRAMES, SLEEPTIME, screen)\n"
   ]
  },
  {
   "cell_type": "code",
   "execution_count": null,
   "id": "46e0ca8c",
   "metadata": {},
   "outputs": [],
   "source": []
  }
 ],
 "metadata": {
  "kernelspec": {
   "display_name": "Python 3 (ipykernel)",
   "language": "python",
   "name": "python3"
  },
  "language_info": {
   "codemirror_mode": {
    "name": "ipython",
    "version": 3
   },
   "file_extension": ".py",
   "mimetype": "text/x-python",
   "name": "python",
   "nbconvert_exporter": "python",
   "pygments_lexer": "ipython3",
   "version": "3.9.1"
  },
  "toc": {
   "base_numbering": 1,
   "nav_menu": {},
   "number_sections": true,
   "sideBar": true,
   "skip_h1_title": false,
   "title_cell": "Table of Contents",
   "title_sidebar": "Contents",
   "toc_cell": false,
   "toc_position": {},
   "toc_section_display": true,
   "toc_window_display": false
  },
  "varInspector": {
   "cols": {
    "lenName": 16,
    "lenType": 16,
    "lenVar": 40
   },
   "kernels_config": {
    "python": {
     "delete_cmd_postfix": "",
     "delete_cmd_prefix": "del ",
     "library": "var_list.py",
     "varRefreshCmd": "print(var_dic_list())"
    },
    "r": {
     "delete_cmd_postfix": ") ",
     "delete_cmd_prefix": "rm(",
     "library": "var_list.r",
     "varRefreshCmd": "cat(var_dic_list()) "
    }
   },
   "types_to_exclude": [
    "module",
    "function",
    "builtin_function_or_method",
    "instance",
    "_Feature"
   ],
   "window_display": false
  }
 },
 "nbformat": 4,
 "nbformat_minor": 5
}
